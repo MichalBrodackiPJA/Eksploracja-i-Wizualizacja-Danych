{
 "cells": [
  {
   "cell_type": "markdown",
   "id": "8a1056bc-d2b6-40b0-a894-fb3884df42c8",
   "metadata": {},
   "source": [
    "# Klasyfikacja (dodatkowe zadania)\n",
    "## Zadania\n",
    "1. Wczytaj zbiory `wdbc.data`, `Dry_Bean_Dataset.xlsx`. Użyj walidacji krzyżowej aby wybrać najlepszy klasyfikator. \n",
    "    - Skaluj dane `minmax_scale()`.\n",
    "    - Podziel zbiory na zbiór treningowy i testowy.\n",
    "    - Porównaj klasyfikatory: `LinearDiscriminantAnalysis`, `QuadraticDiscriminantAnalysis`, `GaussianNB`, `LogisticRegression`, `KNeighborsClassifier`.\n",
    "    - Do ewaluacji modeli można użyć metod [`cross_val_score()`](https://scikit-learn.org/stable/modules/generated/sklearn.model_selection.cross_val_score.html) lub [`cross_validate()`](https://scikit-learn.org/stable/modules/generated/sklearn.model_selection.cross_validate.html#sklearn.model_selection.cross_validate).\n",
    "    - Po wyborze najlepszego modelu, trenuj go za pomocą całego zbioru treningowego. Użyj wydzielonego wcześniej zbioru testowego aby ewaluować model (podaj dokładność i inne miary).\n",
    "2. Dla zbiorów z Zadania 1, użyj walidacji krzyżowej aby dobrać najlepszą wartośc parametru `n_neighbors` dla `KNeighborsClassifier`.\n",
    "    - Proces można zaimplementować manualnie (np. w pętli), lub użyć [`GridSearchCV`](https://scikit-learn.org/stable/modules/generated/sklearn.model_selection.GridSearchCV.html).\n",
    "    - Stwórz wykres pokazujący zależność średniej dokładności od `n_neighbors`.\n",
    "    - Po wyborze najlepszego modelu, trenuj go za pomocą całego zbioru treningowego. Użyj wydzielonego wcześniej zbioru testowego aby ewaluować model (podaj dokładność i inne miary)."
   ]
  },
  {
   "cell_type": "markdown",
   "metadata": {},
   "source": [
    "1. Wczytaj zbiory `wdbc.data`, `Dry_Bean_Dataset.xlsx`. Użyj walidacji krzyżowej aby wybrać najlepszy klasyfikator. \n",
    "    - Skaluj dane `minmax_scale()`.\n",
    "    - Podziel zbiory na zbiór treningowy i testowy.\n",
    "    - Porównaj klasyfikatory: `LinearDiscriminantAnalysis`, `QuadraticDiscriminantAnalysis`, `GaussianNB`, `LogisticRegression`, `KNeighborsClassifier`.\n",
    "    - Do ewaluacji modeli można użyć metod [`cross_val_score()`](https://scikit-learn.org/stable/modules/generated/sklearn.model_selection.cross_val_score.html) lub [`cross_validate()`](https://scikit-learn.org/stable/modules/generated/sklearn.model_selection.cross_validate.html#sklearn.model_selection.cross_validate).\n",
    "    - Po wyborze najlepszego modelu, trenuj go za pomocą całego zbioru treningowego. Użyj wydzielonego wcześniej zbioru testowego aby ewaluować model (podaj dokładność i inne miary)."
   ]
  },
  {
   "cell_type": "code",
   "execution_count": null,
   "metadata": {
    "vscode": {
     "languageId": "plaintext"
    }
   },
   "outputs": [],
   "source": []
  },
  {
   "cell_type": "code",
   "execution_count": null,
   "metadata": {
    "vscode": {
     "languageId": "plaintext"
    }
   },
   "outputs": [],
   "source": []
  },
  {
   "cell_type": "markdown",
   "metadata": {},
   "source": [
    "2. Wczytaj zbiór `boston.csv`. Przewiduj wartość `medv` na podstawie pozostałych zmiennych.\n",
    "    - Podziel dane na zbiór testowy i treningowy.\n",
    "    - Stwórz model [`DecisionTreeRegressor`](https://scikit-learn.org/stable/modules/generated/sklearn.tree.DecisionTreeRegressor.html). Użyj walidacji krzyżowej do ewaluacji modelu.\n",
    "    - Zmniejsz rozmiar drzewa stosując 'przycinanie' (pruning). Wygeneruj wartości `ccp_alpha` metodą `cost_complexity_pruning_path()`. Następnie użyj [`GridSearchCV`](https://scikit-learn.org/stable/modules/generated/sklearn.model_selection.GridSearchCV.html), aby znaleźć najlepszą. \n",
    "    - Porównaj modele przed i po przycinaniu. Jak wpłynęło na jakość predykcji? Jak zmienił się rozmiar drzewa (sprawdź metodami `get_depth()`, `get_n_leaves()`)?\n",
    "    - Sprawdź jaki wpływ na jakość predykcji ma regulowanie rozmiaru drzewa, np. parametrami `max_depth`, `max_leaf_nodes`.\n",
    "    - Stwórz model [`RandomForestRegressor`](https://scikit-learn.org/stable/modules/generated/sklearn.ensemble.RandomForestRegressor.html) i porównaj go z wcześniej tworzonymi modelami.\n",
    "    - Wybierz najlepsze ze stworzonych drzew decyzyjnych, biorąc pod uwagę zarówno jakość predykcji, jak i rozmiar drzewa. Wizualizuj drzewo metodą [`plot_tree()`](https://scikit-learn.org/stable/modules/generated/sklearn.tree.plot_tree.html). Dokonaj ewaluacji korzystając ze zbioru testowego."
   ]
  },
  {
   "cell_type": "code",
   "execution_count": null,
   "metadata": {
    "vscode": {
     "languageId": "plaintext"
    }
   },
   "outputs": [],
   "source": []
  },
  {
   "cell_type": "code",
   "execution_count": null,
   "metadata": {
    "vscode": {
     "languageId": "plaintext"
    }
   },
   "outputs": [],
   "source": []
  }
 ],
 "metadata": {
  "kernelspec": {
   "display_name": "Python 3 (ipykernel)",
   "language": "python",
   "name": "python3"
  },
  "language_info": {
   "codemirror_mode": {
    "name": "ipython",
    "version": 3
   },
   "file_extension": ".py",
   "mimetype": "text/x-python",
   "name": "python",
   "nbconvert_exporter": "python",
   "pygments_lexer": "ipython3",
   "version": "3.9.16"
  }
 },
 "nbformat": 4,
 "nbformat_minor": 5
}
